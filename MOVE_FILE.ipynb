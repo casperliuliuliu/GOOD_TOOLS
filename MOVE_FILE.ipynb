{
 "cells": [
  {
   "cell_type": "code",
   "execution_count": null,
   "metadata": {},
   "outputs": [],
   "source": [
    "import os\n",
    "import shutil\n",
    "\n",
    "def move_files_out(source_folder, destination_folder):\n",
    "    # Ensure the source folder exists\n",
    "    if not os.path.exists(source_folder):\n",
    "        print(f\"Source folder '{source_folder}' does not exist.\")\n",
    "        return\n",
    "    \n",
    "    # Ensure the destination folder exists or create it\n",
    "    if not os.path.exists(destination_folder):\n",
    "        os.makedirs(destination_folder)\n",
    "\n",
    "    # List all files in the source folder\n",
    "    files = os.listdir(source_folder)\n",
    "\n",
    "    # Move each file from the source to the destination folder\n",
    "    for file_name in files:\n",
    "        source_file = os.path.join(source_folder, file_name)\n",
    "        destination_file = os.path.join(destination_folder, file_name)\n",
    "\n",
    "        # Check if the item is a file (not a directory)\n",
    "        if os.path.isfile(source_file):\n",
    "            shutil.move(source_file, destination_file)\n",
    "            print(f\"Moved '{file_name}' from '{source_folder}' to '{destination_folder}'\")\n",
    "\n",
    "\n",
    "destination_folder = 'E:\\\\Tiff\\\\2nd\\\\IgA-Anonymize'\n",
    "source_path = \"\"\n",
    "for source in os.listdir(destination_folder):\n",
    "    source_path = os.path.join(destination_folder, source)\n",
    "\n",
    "    if os.path.isdir(source_path):  # Check if it's a directory\n",
    "        print(f\"Contents of {source_path}:\")\n",
    "        print(os.listdir(source_path))\n",
    "        for item in os.listdir(source_path):\n",
    "            print(item)\n",
    "    #         item_path = os.path.join(source_path, item)\n",
    "    #         print(item_path)\n",
    "\n",
    "        move_files_out(source_path, destination_folder)\n"
   ]
  }
 ],
 "metadata": {
  "language_info": {
   "name": "python"
  },
  "orig_nbformat": 4
 },
 "nbformat": 4,
 "nbformat_minor": 2
}
