{
 "cells": [
  {
   "cell_type": "code",
   "execution_count": null,
   "id": "df2c2978-3eb2-40a3-99e8-96f515c610dc",
   "metadata": {},
   "outputs": [],
   "source": [
    "# complete\n",
    "from datetime import datetime\n",
    "\n",
    "# print and fprint at the same time\n",
    "def pprint(output = '\\n' , filename = \"log_pretrained_03.txt\", show_time = False):\n",
    "    print(output)\n",
    "    with open(filename, 'a') as f:\n",
    "        if show_time:\n",
    "            f.write(datetime.now().strftime(\"[%Y-%m-%d %H:%M:%S] \"))\n",
    "\n",
    "        f.write(str(output))\n",
    "        f.write('\\n')\n",
    "        \n",
    "# usual string\n",
    "pprint('hello')\n",
    "var = 10\n",
    "dic = {'a': 'apple', 'b': 'ball'}\n",
    "# using f-string\n",
    "pprint(f'var = {var}')\n",
    "pprint(f'dic = {dic}')\n",
    "# using str.format\n",
    "pprint('var is = {:3d}'.format(var))\n",
    "pprint('dic a is {a}, b is {b}'.format(**dic))"
   ]
  }
 ],
 "metadata": {
  "kernelspec": {
   "display_name": "Tf-GPU",
   "language": "python",
   "name": "tf-gpu"
  },
  "language_info": {
   "codemirror_mode": {
    "name": "ipython",
    "version": 3
   },
   "file_extension": ".py",
   "mimetype": "text/x-python",
   "name": "python",
   "nbconvert_exporter": "python",
   "pygments_lexer": "ipython3",
   "version": "3.10.9"
  }
 },
 "nbformat": 4,
 "nbformat_minor": 5
}
