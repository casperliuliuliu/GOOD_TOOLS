{
 "cells": [
  {
   "cell_type": "code",
   "execution_count": null,
   "id": "86d75966-b3c6-4a25-85ca-70168d297002",
   "metadata": {},
   "outputs": [],
   "source": [
    "import requests\n",
    "from bs4 import BeautifulSoup\n",
    "\n",
    "def get_top_50_cs_schools():\n",
    "    url = \"https://www.usnews.com/best-graduate-schools/top-science-schools/computer-science-rankings\"\n",
    "    response = requests.get(url)\n",
    "\n",
    "    if response.status_code != 200:\n",
    "        print(\"Failed to fetch the website.\")\n",
    "        return []\n",
    "\n",
    "#     soup = BeautifulSoup(response.content, \"html.parser\")\n",
    "\n",
    "#     schools_list = []\n",
    "\n",
    "#     # Find the table containing the school rankings\n",
    "#     table = soup.find(\"table\", class_=\"ranking-data-table\")\n",
    "\n",
    "#     if table:\n",
    "#         rows = table.find_all(\"tr\")\n",
    "\n",
    "#         for row in rows[1:]:  # Skip the first row containing column headers\n",
    "#             columns = row.find_all(\"td\")\n",
    "#             if len(columns) >= 2:\n",
    "#                 rank = columns[0].text.strip()\n",
    "#                 school_name = columns[1].text.strip()\n",
    "#                 schools_list.append(f\"{rank}. {school_name}\")\n",
    "\n",
    "#     return schools_list\n",
    "    return 0 \n",
    "\n",
    "if __name__ == \"__main__\":\n",
    "    top_50_schools = get_top_50_cs_schools()\n",
    "\n",
    "    if top_50_schools:\n",
    "        print(\"Top 50 Computer Science Schools:\")\n",
    "        for school in top_50_schools:\n",
    "            print(school)\n",
    "    else:\n",
    "        print(\"Failed to fetch the rankings.\")\n"
   ]
  },
  {
   "cell_type": "code",
   "execution_count": 1,
   "id": "d1964903-ba34-4d9d-8111-842e9df10706",
   "metadata": {},
   "outputs": [
    {
     "name": "stdout",
     "output_type": "stream",
     "text": [
      "hello\n"
     ]
    }
   ],
   "source": [
    "print('hello')"
   ]
  }
 ],
 "metadata": {
  "kernelspec": {
   "display_name": "Python 3 (ipykernel)",
   "language": "python",
   "name": "python3"
  },
  "language_info": {
   "codemirror_mode": {
    "name": "ipython",
    "version": 3
   },
   "file_extension": ".py",
   "mimetype": "text/x-python",
   "name": "python",
   "nbconvert_exporter": "python",
   "pygments_lexer": "ipython3",
   "version": "3.10.12"
  }
 },
 "nbformat": 4,
 "nbformat_minor": 5
}
