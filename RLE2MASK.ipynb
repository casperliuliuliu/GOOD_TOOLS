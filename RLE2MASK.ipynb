{
 "cells": [
  {
   "cell_type": "code",
   "execution_count": null,
   "id": "de56e402-0cff-428f-afcc-bf20e6ecf40b",
   "metadata": {},
   "outputs": [],
   "source": [
    "def rle2mask(rle):\n",
    "    # Split the RLE string into pairs of values\n",
    "    values = rle.split()\n",
    "    \n",
    "    # Extract the pixel positions and run lengths from the values\n",
    "    positions = [int(v) for v in values[0::2]]\n",
    "    run_lengths = [int(v) for v in values[1::2]]\n",
    "    \n",
    "    # Determine the maximum position in the RLE\n",
    "    max_position = max(positions)\n",
    "    \n",
    "    # Initialize an array to store the mask\n",
    "    mask = [0] * (max_position + run_lengths[-1])\n",
    "    \n",
    "    # Iterate over the positions and run lengths\n",
    "    for pos, run in zip(positions, run_lengths):\n",
    "        # Set the corresponding pixels to 1 (foreground)\n",
    "        mask[pos-1:pos+run-1] = [1] * run\n",
    "    \n",
    "    return mask\n",
    "mask = rle2mask(df[\"predicted\"][0])"
   ]
  }
 ],
 "metadata": {
  "kernelspec": {
   "display_name": "Tf-GPU",
   "language": "python",
   "name": "tf-gpu"
  },
  "language_info": {
   "codemirror_mode": {
    "name": "ipython",
    "version": 3
   },
   "file_extension": ".py",
   "mimetype": "text/x-python",
   "name": "python",
   "nbconvert_exporter": "python",
   "pygments_lexer": "ipython3",
   "version": "3.10.9"
  }
 },
 "nbformat": 4,
 "nbformat_minor": 5
}
