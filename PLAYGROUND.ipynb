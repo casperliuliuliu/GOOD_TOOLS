{
 "cells": [
  {
   "cell_type": "code",
   "execution_count": 31,
   "id": "ea4b26b4-a5a8-405b-9fd2-bc5703cb9b08",
   "metadata": {},
   "outputs": [
    {
     "name": "stdout",
     "output_type": "stream",
     "text": [
      "Conv2d(16, 33, kernel_size=(3, 5), stride=(2, 1), padding=(4, 2))\n",
      "torch.Size([1, 16, 10, 20])\n",
      "torch.Size([1, 33, 8, 20])\n"
     ]
    }
   ],
   "source": [
    "import torch.nn as nn\n",
    "import torch\n",
    "\n",
    "# With square kernels and equal stride\n",
    "m = nn.Conv2d(16, 100, 25, stride=2)\n",
    "# non-square kernels and unequal stride and with padding\n",
    "m = nn.Conv2d(16, 33, (3, 5), stride=(2, 1), padding=(4, 2))\n",
    "m = nn.Conv2d(16, 33, (3, 5), stride=(2,1), padding=(4,2))\n",
    "# # non-square kernels and unequal stride and with padding and dilation\n",
    "# m = nn.Conv2d(16, 33, (3, 5), stride=(2, 1), padding=(4, 2), dilation=(3, 1))\n",
    "print(m)\n",
    "inputs = torch.randn(1, 16, 10, 20)\n",
    "print(inputs.shape)\n",
    "# print(inputs)\n",
    "output = m(inputs)\n",
    "print(output.shape)\n",
    "# print(output)"
   ]
  },
  {
   "cell_type": "code",
   "execution_count": null,
   "id": "ba4ed6b8-2bce-4318-aa3e-c9873274de92",
   "metadata": {},
   "outputs": [],
   "source": []
  }
 ],
 "metadata": {
  "kernelspec": {
   "display_name": "Tf-GPU",
   "language": "python",
   "name": "tf-gpu"
  },
  "language_info": {
   "codemirror_mode": {
    "name": "ipython",
    "version": 3
   },
   "file_extension": ".py",
   "mimetype": "text/x-python",
   "name": "python",
   "nbconvert_exporter": "python",
   "pygments_lexer": "ipython3",
   "version": "3.10.9"
  }
 },
 "nbformat": 4,
 "nbformat_minor": 5
}
