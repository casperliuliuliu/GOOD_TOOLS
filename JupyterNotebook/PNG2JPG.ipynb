{
 "cells": [
  {
   "cell_type": "code",
   "execution_count": null,
   "id": "770301a8-1c1b-4428-960c-4c905a85932d",
   "metadata": {},
   "outputs": [
    {
     "name": "stdout",
     "output_type": "stream",
     "text": [
      "Total: 7181\n",
      "1893\r"
     ]
    }
   ],
   "source": [
    "from PIL import Image\n",
    "import os\n",
    "\n",
    "def png2jpg(path, save_path):\n",
    "    i = 0\n",
    "    print(f\"Total: {len(os.listdir(path))}\")\n",
    "    for file in os.listdir(path):\n",
    "        if \".png\" == file[-4:]:\n",
    "            try:\n",
    "                img_png = Image.open(path+file)\n",
    "                img_png = img_png.convert(\"RGB\")\n",
    "                img_png.save(save_path + file[:-4] + \".jpg\")\n",
    "                i +=1\n",
    "                print(f\"{i}\", end = \"\\r\")\n",
    "                \n",
    "            except:\n",
    "                print(f\"[WARNING] File conversion failed: {path+file}\")\n",
    "            # print(save_path + file[:-4] + \".jpg\")\n",
    "    print(f\"FILE COMPLETE:{i}/{len(os.listdir(path))}\")\n",
    "    \n",
    "            \n"
   ]
  },
  {
   "cell_type": "code",
   "execution_count": null,
   "id": "66a41f7e-a7a9-4bd4-9a3d-16144d45d2fa",
   "metadata": {},
   "outputs": [],
   "source": [
    "png2jpg(\"E:/casper/raw_data_training/test/train/IgA/\", \"E:/GLO_林口長庚資料集/Process_2022/Data/train/IgA/\")\n"
   ]
  },
  {
   "cell_type": "code",
   "execution_count": null,
   "id": "7be94e92-6851-4660-a0e7-c8912bc79b44",
   "metadata": {},
   "outputs": [],
   "source": [
    "png2jpg(\"E:/casper/raw_data_training/test/train/MN/\", \"E:/GLO_林口長庚資料集/Process_2022/Data/train/MN/\")\n",
    "png2jpg(\"E:/casper/raw_data_training/test/val/IgA/\", \"E:/GLO_林口長庚資料集/Process_2022/Data/val/IgA/\")\n",
    "png2jpg(\"E:/casper/raw_data_training/test/val/MN/\", \"E:/GLO_林口長庚資料集/Process_2022/Data/val/MN/\")\n"
   ]
  }
 ],
 "metadata": {
  "kernelspec": {
   "display_name": "Tf-GPU",
   "language": "python",
   "name": "tf-gpu"
  },
  "language_info": {
   "codemirror_mode": {
    "name": "ipython",
    "version": 3
   },
   "file_extension": ".py",
   "mimetype": "text/x-python",
   "name": "python",
   "nbconvert_exporter": "python",
   "pygments_lexer": "ipython3",
   "version": "3.10.9"
  }
 },
 "nbformat": 4,
 "nbformat_minor": 5
}
