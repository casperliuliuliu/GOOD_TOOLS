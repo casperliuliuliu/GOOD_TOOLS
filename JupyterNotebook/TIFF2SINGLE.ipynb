{
 "cells": [
  {
   "cell_type": "code",
   "execution_count": 3,
   "metadata": {},
   "outputs": [],
   "source": [
    "import cv2 \n",
    "import numpy as np\n",
    "import pylab\n",
    "import matplotlib.pyplot as plt\n",
    "import os"
   ]
  },
  {
   "cell_type": "code",
   "execution_count": 4,
   "metadata": {},
   "outputs": [],
   "source": [
    "def TIFF2SINGLE(\n",
    "    tiff_path: str, \n",
    "    mask_path: str\n",
    "    ) -> int:\n",
    "    tiff_name = tiff_path.split('/')[-1]\n",
    "    mask_name = mask_path.split('/')[-1]\n",
    "    store_path = tiff_path[: (-1)* (len(tiff_name))]\n",
    "    i = 0\n",
    "    print(store_path)\n",
    "    print('helo')\n",
    "    os.chdir(store_path)\n",
    "    \n",
    "    tiff = cv2.imread(tiff_name,-1)\n",
    "    mask = cv2.imread(mask_name,-1)\n",
    "    print(tiff.shape)\n",
    "    print(mask.shape)\n",
    "    \n",
    "    if tiff.shape[0] != mask.shape[0] or tiff.shape[1] != mask.shape[1]:\n",
    "        print(f\"[WARNING] Size not match. \\ntiff->{tiff_path} \\nmask->{mask_path}\")\n",
    "        return -1\n",
    "    contours, hierarchy = cv2.findContours(mask, cv2.RETR_TREE, cv2.CHAIN_APPROX_SIMPLE)\n",
    "    \n",
    "    if not os.path.isdir(store_path + \"result\"):\n",
    "        os.mkdir(store_path + \"result\")\n",
    "        \n",
    "    os.chdir(store_path + \"result\")\n",
    "    for cnt in contours:\n",
    "        x, y, w, h = cv2.boundingRect(cnt)\n",
    "        mid_x = int(x + w/2)\n",
    "        mid_y = int(y + h/2)\n",
    "        \n",
    "        try:\n",
    "            glomer = tiff[ (mid_y-256) : (mid_y+256), (mid_x-256) : (mid_x+256)]\n",
    "            store_path = tiff_name[:-5] + f\"_{x}_{y}.png\"\n",
    "            if h > 600 or w > 600:\n",
    "                if h > w:\n",
    "                    size = int((int(h / 512)+1) * 512 / 2)\n",
    "                else:\n",
    "                    size = int((int(w / 512)+1) * 512 / 2)\n",
    "                glomer = tiff[ (mid_y-size) : (mid_y+size), (mid_x-size) : (mid_x+size) ]\n",
    "            cv2.imwrite(store_path, glomer)\n",
    "            i+=1\n",
    "            \n",
    "        except:\n",
    "            print(f\"[WARNING] Crop failed: (x, y, w, h) = ({x}, {y}, {w}, {h})\")\n",
    "        # break\n",
    "    return i,len(contours)\n",
    "\n"
   ]
  },
  {
   "cell_type": "code",
   "execution_count": 5,
   "metadata": {},
   "outputs": [
    {
     "name": "stdout",
     "output_type": "stream",
     "text": [
      "E:/GLO_林口長庚資料集/Process_2022/Tool/TEST_DATA/\n",
      "helo\n",
      "(25784, 34937, 3)\n",
      "(25784, 34937)\n"
     ]
    },
    {
     "data": {
      "text/plain": [
       "(129, 129)"
      ]
     },
     "execution_count": 5,
     "metadata": {},
     "output_type": "execute_result"
    }
   ],
   "source": [
    "tiff_path = 'E:/GLO_林口長庚資料集/Process_2022/Tool/TEST_DATA/test.tiff'\n",
    "mask_path = 'E:/GLO_林口長庚資料集/Process_2022/Tool/TEST_DATA/mask.tiff'\n",
    "TIFF2SINGLE(tiff_path,mask_path)"
   ]
  },
  {
   "cell_type": "code",
   "execution_count": null,
   "metadata": {},
   "outputs": [],
   "source": []
  }
 ],
 "metadata": {
  "kernelspec": {
   "display_name": "Tf-GPU",
   "language": "python",
   "name": "tf-gpu"
  },
  "language_info": {
   "codemirror_mode": {
    "name": "ipython",
    "version": 3
   },
   "file_extension": ".py",
   "mimetype": "text/x-python",
   "name": "python",
   "nbconvert_exporter": "python",
   "pygments_lexer": "ipython3",
   "version": "3.10.9"
  }
 },
 "nbformat": 4,
 "nbformat_minor": 4
}
