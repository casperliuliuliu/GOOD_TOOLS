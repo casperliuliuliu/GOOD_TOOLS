{
 "cells": [
  {
   "cell_type": "code",
   "execution_count": 3,
   "metadata": {},
   "outputs": [],
   "source": [
    "import requests\n",
    "\n",
    "url = \"https://www.kaggle.com/datasets/alessiocorrado99/animals10/download?datasetVersionNumber=2\"\n",
    "output_file = \"E:/GLO_林口長庚資料集/Process_2022/UNSUPER/animals10.zip\"\n",
    "\n",
    "# response = requests.get(url, stream=True)\n",
    "\n",
    "# if response.status_code == 200:\n",
    "#     with open(output_file, 'wb') as file:\n",
    "#         for chunk in response.iter_content(chunk_size=8192):\n",
    "#             file.write(chunk)\n",
    "#     print(\"Download complete.\")\n",
    "# else:\n",
    "#     print(\"Download failed. Status code:\", response.status_code)\n"
   ]
  },
  {
   "cell_type": "code",
   "execution_count": 5,
   "metadata": {},
   "outputs": [
    {
     "data": {
      "text/plain": [
       "4873"
      ]
     },
     "execution_count": 5,
     "metadata": {},
     "output_type": "execute_result"
    }
   ],
   "source": [
    "import requests\n",
    "\n",
    "response = requests.get(url)\n",
    "open(output_file, \"wb\").write(response.content)"
   ]
  }
 ],
 "metadata": {
  "kernelspec": {
   "display_name": "Tf-GPU",
   "language": "python",
   "name": "python3"
  },
  "language_info": {
   "codemirror_mode": {
    "name": "ipython",
    "version": 3
   },
   "file_extension": ".py",
   "mimetype": "text/x-python",
   "name": "python",
   "nbconvert_exporter": "python",
   "pygments_lexer": "ipython3",
   "version": "3.10.9"
  },
  "orig_nbformat": 4
 },
 "nbformat": 4,
 "nbformat_minor": 2
}
