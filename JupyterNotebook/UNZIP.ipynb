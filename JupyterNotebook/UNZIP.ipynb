{
 "cells": [
  {
   "cell_type": "code",
   "execution_count": 1,
   "id": "ef404105-c57b-40c0-ba6a-d5d82110a556",
   "metadata": {},
   "outputs": [],
   "source": [
    "\n",
    "# importing the zipfile module\n",
    "from zipfile import ZipFile\n",
    "def unzip(zip_path):\n",
    "    # loading the temp.zip and creating a zip object\n",
    "    with ZipFile(zip_path, 'r') as zObject:\n",
    "\n",
    "        # Extracting all the members of the zip\n",
    "        # into a specific location.\n",
    "        zObject.extractall(path=zip_path[:-4])"
   ]
  },
  {
   "cell_type": "code",
   "execution_count": 3,
   "id": "8fc66064-3490-4254-b2bc-9bf4b406779d",
   "metadata": {},
   "outputs": [],
   "source": [
    "unzip(\"E:/GLO_林口長庚資料集/Process_2022/Tool/腎絲球切割(1).zip\")"
   ]
  },
  {
   "cell_type": "code",
   "execution_count": 3,
   "id": "86fb48e3-06e9-4a9a-92cf-0cf84ac0eb47",
   "metadata": {},
   "outputs": [
    {
     "ename": "BadZipFile",
     "evalue": "File is not a zip file",
     "output_type": "error",
     "traceback": [
      "\u001b[1;31m---------------------------------------------------------------------------\u001b[0m",
      "\u001b[1;31mBadZipFile\u001b[0m                                Traceback (most recent call last)",
      "Cell \u001b[1;32mIn[3], line 1\u001b[0m\n\u001b[1;32m----> 1\u001b[0m unzip(\u001b[39m\"\u001b[39;49m\u001b[39mE:/GLO_林口長庚資料集/Process_2022/UNSUPER/animals10.zip\u001b[39;49m\u001b[39m\"\u001b[39;49m)\n",
      "Cell \u001b[1;32mIn[1], line 5\u001b[0m, in \u001b[0;36munzip\u001b[1;34m(zip_path)\u001b[0m\n\u001b[0;32m      3\u001b[0m \u001b[39mdef\u001b[39;00m \u001b[39munzip\u001b[39m(zip_path):\n\u001b[0;32m      4\u001b[0m     \u001b[39m# loading the temp.zip and creating a zip object\u001b[39;00m\n\u001b[1;32m----> 5\u001b[0m     \u001b[39mwith\u001b[39;00m ZipFile(zip_path, \u001b[39m'\u001b[39;49m\u001b[39mr\u001b[39;49m\u001b[39m'\u001b[39;49m) \u001b[39mas\u001b[39;00m zObject:\n\u001b[0;32m      6\u001b[0m \n\u001b[0;32m      7\u001b[0m         \u001b[39m# Extracting all the members of the zip\u001b[39;00m\n\u001b[0;32m      8\u001b[0m         \u001b[39m# into a specific location.\u001b[39;00m\n\u001b[0;32m      9\u001b[0m         zObject\u001b[39m.\u001b[39mextractall(path\u001b[39m=\u001b[39mzip_path[:\u001b[39m-\u001b[39m\u001b[39m4\u001b[39m])\n",
      "File \u001b[1;32mc:\\Users\\VLSI\\anaconda3\\envs\\Tf-GPU\\lib\\zipfile.py:1267\u001b[0m, in \u001b[0;36mZipFile.__init__\u001b[1;34m(self, file, mode, compression, allowZip64, compresslevel, strict_timestamps)\u001b[0m\n\u001b[0;32m   1265\u001b[0m \u001b[39mtry\u001b[39;00m:\n\u001b[0;32m   1266\u001b[0m     \u001b[39mif\u001b[39;00m mode \u001b[39m==\u001b[39m \u001b[39m'\u001b[39m\u001b[39mr\u001b[39m\u001b[39m'\u001b[39m:\n\u001b[1;32m-> 1267\u001b[0m         \u001b[39mself\u001b[39;49m\u001b[39m.\u001b[39;49m_RealGetContents()\n\u001b[0;32m   1268\u001b[0m     \u001b[39melif\u001b[39;00m mode \u001b[39min\u001b[39;00m (\u001b[39m'\u001b[39m\u001b[39mw\u001b[39m\u001b[39m'\u001b[39m, \u001b[39m'\u001b[39m\u001b[39mx\u001b[39m\u001b[39m'\u001b[39m):\n\u001b[0;32m   1269\u001b[0m         \u001b[39m# set the modified flag so central directory gets written\u001b[39;00m\n\u001b[0;32m   1270\u001b[0m         \u001b[39m# even if no files are added to the archive\u001b[39;00m\n\u001b[0;32m   1271\u001b[0m         \u001b[39mself\u001b[39m\u001b[39m.\u001b[39m_didModify \u001b[39m=\u001b[39m \u001b[39mTrue\u001b[39;00m\n",
      "File \u001b[1;32mc:\\Users\\VLSI\\anaconda3\\envs\\Tf-GPU\\lib\\zipfile.py:1334\u001b[0m, in \u001b[0;36mZipFile._RealGetContents\u001b[1;34m(self)\u001b[0m\n\u001b[0;32m   1332\u001b[0m     \u001b[39mraise\u001b[39;00m BadZipFile(\u001b[39m\"\u001b[39m\u001b[39mFile is not a zip file\u001b[39m\u001b[39m\"\u001b[39m)\n\u001b[0;32m   1333\u001b[0m \u001b[39mif\u001b[39;00m \u001b[39mnot\u001b[39;00m endrec:\n\u001b[1;32m-> 1334\u001b[0m     \u001b[39mraise\u001b[39;00m BadZipFile(\u001b[39m\"\u001b[39m\u001b[39mFile is not a zip file\u001b[39m\u001b[39m\"\u001b[39m)\n\u001b[0;32m   1335\u001b[0m \u001b[39mif\u001b[39;00m \u001b[39mself\u001b[39m\u001b[39m.\u001b[39mdebug \u001b[39m>\u001b[39m \u001b[39m1\u001b[39m:\n\u001b[0;32m   1336\u001b[0m     \u001b[39mprint\u001b[39m(endrec)\n",
      "\u001b[1;31mBadZipFile\u001b[0m: File is not a zip file"
     ]
    }
   ],
   "source": [
    "unzip(\"E:/GLO_林口長庚資料集/Process_2022/UNSUPER/animals10.zip\")"
   ]
  }
 ],
 "metadata": {
  "kernelspec": {
   "display_name": "Python 3 (ipykernel)",
   "language": "python",
   "name": "python3"
  },
  "language_info": {
   "codemirror_mode": {
    "name": "ipython",
    "version": 3
   },
   "file_extension": ".py",
   "mimetype": "text/x-python",
   "name": "python",
   "nbconvert_exporter": "python",
   "pygments_lexer": "ipython3",
   "version": "3.10.9"
  }
 },
 "nbformat": 4,
 "nbformat_minor": 5
}
