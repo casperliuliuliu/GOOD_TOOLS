{
 "cells": [
  {
   "cell_type": "code",
   "execution_count": 10,
   "metadata": {},
   "outputs": [],
   "source": [
    "import pandas as pd\n",
    "import os\n",
    "df = pd.DataFrame({\n",
    "    'file':[],\n",
    "    'label':[]\n",
    "                   })\n",
    "path = r\"E:\\GLO_林口長庚資料集\\Process_2022\\Data\\train\"\n",
    "folder = os.listdir(path)\n",
    "index = 0\n",
    "for ii in folder:\n",
    "    if folder[0] == '.':\n",
    "        continue\n",
    "    files = os.listdir(os.path.join(path,ii))\n",
    "    temp_df = pd.DataFrame({\n",
    "    'file': files,\n",
    "    'label': [index] * len(files)\n",
    "    })\n",
    "    index+=1\n",
    "    # print([index] * len(files))\n",
    "    df = pd.concat([df, temp_df]).reset_index(drop=1)"
   ]
  },
  {
   "cell_type": "code",
   "execution_count": 13,
   "metadata": {},
   "outputs": [
    {
     "name": "stdout",
     "output_type": "stream",
     "text": [
      "                          file  label\n",
      "0       left10010_top11748.jpg      0\n",
      "1       left10010_top53538.jpg      0\n",
      "2       left10010_top88912.jpg      0\n",
      "3      left10018_top109278.jpg      0\n",
      "4        left10018_top3058.jpg      0\n",
      "...                        ...    ...\n",
      "11394         S1112026 (3).jpg      1\n",
      "11395         S1112026 (4).jpg      1\n",
      "11396         S1112026 (5).jpg      1\n",
      "11397         S1112026 (6).jpg      1\n",
      "11398         S1112026 (7).jpg      1\n",
      "\n",
      "[11399 rows x 2 columns]\n"
     ]
    }
   ],
   "source": [
    "df = df.astype({'label':int})\n",
    "print(df)\n",
    "df.to_csv(\"iga_and_mn.csv\", index=0)"
   ]
  }
 ],
 "metadata": {
  "kernelspec": {
   "display_name": "Tf-GPU",
   "language": "python",
   "name": "python3"
  },
  "language_info": {
   "codemirror_mode": {
    "name": "ipython",
    "version": 3
   },
   "file_extension": ".py",
   "mimetype": "text/x-python",
   "name": "python",
   "nbconvert_exporter": "python",
   "pygments_lexer": "ipython3",
   "version": "3.10.9"
  },
  "orig_nbformat": 4
 },
 "nbformat": 4,
 "nbformat_minor": 2
}
