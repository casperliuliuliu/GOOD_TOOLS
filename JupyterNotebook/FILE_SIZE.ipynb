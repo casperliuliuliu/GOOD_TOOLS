{
 "cells": [
  {
   "cell_type": "code",
   "execution_count": 1,
   "id": "565fd98c-953a-47fe-8287-b733b1758963",
   "metadata": {},
   "outputs": [],
   "source": [
    "import os\n",
    "\n",
    "def get_size(path):\n",
    "    \"\"\"\n",
    "    Get the size of a file or folder.\n",
    "\n",
    "    :param path: The path to the file or folder.\n",
    "    :return: The size in bytes.\n",
    "    \"\"\"\n",
    "    if os.path.isfile(path):\n",
    "        return os.path.getsize(path)\n",
    "    elif os.path.isdir(path):\n",
    "        total_size = 0\n",
    "        for dirpath, dirnames, filenames in os.walk(path):\n",
    "            for filename in filenames:\n",
    "                file_path = os.path.join(dirpath, filename)\n",
    "                total_size += os.path.getsize(file_path)\n",
    "        return total_size\n",
    "    else:\n",
    "        return 0  # Return 0 if the path does not exist or is not a file or folder\n"
   ]
  },
  {
   "cell_type": "code",
   "execution_count": 3,
   "id": "8ad519b3-526b-43dc-819b-6d998e28c56a",
   "metadata": {},
   "outputs": [
    {
     "name": "stdout",
     "output_type": "stream",
     "text": [
      "Total size of D:/P2023/DATA/MedMNIST: 601831130 bytes\n"
     ]
    }
   ],
   "source": [
    "path = \"D:/P2023/DATA/MedMNIST\"\n",
    "size = get_size(path)\n",
    "\n",
    "if size == 0:\n",
    "    print(\"File or folder not found.\")\n",
    "elif os.path.isfile(path):\n",
    "    print(f\"Size of {path}: {size} bytes\")\n",
    "elif os.path.isdir(path):\n",
    "    print(f\"Total size of {path}: {size} bytes\")"
   ]
  },
  {
   "cell_type": "code",
   "execution_count": null,
   "id": "f9662f21-0e5e-4346-80fc-eb16e371bd2b",
   "metadata": {},
   "outputs": [],
   "source": []
  }
 ],
 "metadata": {
  "kernelspec": {
   "display_name": "Python 3 (ipykernel)",
   "language": "python",
   "name": "python3"
  },
  "language_info": {
   "codemirror_mode": {
    "name": "ipython",
    "version": 3
   },
   "file_extension": ".py",
   "mimetype": "text/x-python",
   "name": "python",
   "nbconvert_exporter": "python",
   "pygments_lexer": "ipython3",
   "version": "3.10.12"
  }
 },
 "nbformat": 4,
 "nbformat_minor": 5
}
