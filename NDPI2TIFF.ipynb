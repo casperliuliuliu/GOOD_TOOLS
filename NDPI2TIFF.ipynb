{
 "cells": [
  {
   "cell_type": "code",
   "execution_count": 13,
   "id": "617de7f0-79f0-4e7f-baa5-028b2e2836bf",
   "metadata": {},
   "outputs": [],
   "source": [
    "import os\n",
    "dll_path = \"C:\\\\Users\\\\VLSI\\\\anaconda3\\\\envs\\\\Tf-GPU\\\\Lib\\\\site-packages\\\\openslide\\\\openslide-win64-20230414\\\\bin\"\n",
    "os.add_dll_directory(dll_path)\n",
    "import openslide\n",
    "import cv2\n",
    "import numpy as np"
   ]
  },
  {
   "cell_type": "code",
   "execution_count": 9,
   "id": "dce36d84-fa64-4b59-931e-238838813953",
   "metadata": {},
   "outputs": [],
   "source": [
    "def ndpi2tiff(folder_path: str, file_name: str, crop_size: int = 20000, store_path = \"\"):\n",
    "    # Open the NDPI file\n",
    "    if not \".ndpi\" in file_name:\n",
    "        print(f'[WARNING] Weird file not processed: file_name')\n",
    "        return False\n",
    "    os.chdir(folder_path)\n",
    "    slide = openslide.OpenSlide(file_name)\n",
    "\n",
    "    # Get the shape of the NDPI file\n",
    "    slide_width, slide_height = slide.dimensions\n",
    "    total = int((slide_width/crop_size)+1) * int((slide_height/crop_size)+1)\n",
    "    print(f\"Processing {file_name}\")\n",
    "    print(f\"Size of the slize = ({slide_width}, {slide_height})\")\n",
    "    print(f\"Total number ={total}\")\n",
    "    count = 1\n",
    "    if store_path != \"\":\n",
    "        os.chdir(store_path)\n",
    "    # Iterate over each cropping\n",
    "    for y in range(0, slide_height, crop_size):\n",
    "        for x in range(0, slide_width, crop_size):\n",
    "            # Define the crop region\n",
    "            region = (x, y, crop_size, crop_size)\n",
    "\n",
    "            os.chdir(folder_path)\n",
    "            # Read the region from the NDPI file\n",
    "            img = slide.read_region(region, 0, (crop_size, crop_size))\n",
    "\n",
    "            # Convert the PIL image to OpenCV format\n",
    "            img = cv2.cvtColor(np.array(img), cv2.COLOR_RGBA2BGR)\n",
    "            \n",
    "            os.chdir(store_path)\n",
    "            # Save the cropped image as TIFF\n",
    "            cv2.imwrite(f'{file_name}_{x}_{y}.tiff', img)\n",
    "            print(f\"Finished {file_name}: {count}/{total}\")\n",
    "            count += 1\n",
    "          \n",
    "    # Close the NDPI file\n",
    "    slide.close()\n",
    "    return True"
   ]
  },
  {
   "cell_type": "code",
   "execution_count": 14,
   "id": "9919a011-74eb-4e70-b7df-ef041959dab1",
   "metadata": {},
   "outputs": [
    {
     "name": "stdout",
     "output_type": "stream",
     "text": [
      "Processing K20-001406 HE1 _12.19.55.ndpi\n",
      "Size of the slize = (145920, 43776)\n",
      "Total number =24\n",
      "Finished K20-001406 HE1 _12.19.55.ndpi: 1/24\n",
      "Finished K20-001406 HE1 _12.19.55.ndpi: 2/24\n",
      "Finished K20-001406 HE1 _12.19.55.ndpi: 3/24\n",
      "Finished K20-001406 HE1 _12.19.55.ndpi: 4/24\n",
      "Finished K20-001406 HE1 _12.19.55.ndpi: 5/24\n",
      "Finished K20-001406 HE1 _12.19.55.ndpi: 6/24\n",
      "Finished K20-001406 HE1 _12.19.55.ndpi: 7/24\n",
      "Finished K20-001406 HE1 _12.19.55.ndpi: 8/24\n",
      "Finished K20-001406 HE1 _12.19.55.ndpi: 9/24\n",
      "Finished K20-001406 HE1 _12.19.55.ndpi: 10/24\n",
      "Finished K20-001406 HE1 _12.19.55.ndpi: 11/24\n",
      "Finished K20-001406 HE1 _12.19.55.ndpi: 12/24\n",
      "Finished K20-001406 HE1 _12.19.55.ndpi: 13/24\n",
      "Finished K20-001406 HE1 _12.19.55.ndpi: 14/24\n"
     ]
    },
    {
     "ename": "KeyboardInterrupt",
     "evalue": "",
     "output_type": "error",
     "traceback": [
      "\u001b[1;31m---------------------------------------------------------------------------\u001b[0m",
      "\u001b[1;31mKeyboardInterrupt\u001b[0m                         Traceback (most recent call last)",
      "Cell \u001b[1;32mIn[14], line 4\u001b[0m\n\u001b[0;32m      2\u001b[0m file_name \u001b[38;5;241m=\u001b[39m \u001b[38;5;124m\"\u001b[39m\u001b[38;5;124mK20-001406 HE1 _12.19.55.ndpi\u001b[39m\u001b[38;5;124m\"\u001b[39m\n\u001b[0;32m      3\u001b[0m store_path \u001b[38;5;241m=\u001b[39m ndpi_path\u001b[38;5;241m+\u001b[39m\u001b[38;5;124m\"\u001b[39m\u001b[38;5;124mfile/\u001b[39m\u001b[38;5;124m\"\u001b[39m\n\u001b[1;32m----> 4\u001b[0m \u001b[43mndpi2tiff\u001b[49m\u001b[43m(\u001b[49m\u001b[43mndpi_path\u001b[49m\u001b[43m,\u001b[49m\u001b[43m \u001b[49m\u001b[43mfile_name\u001b[49m\u001b[43m,\u001b[49m\u001b[43m \u001b[49m\u001b[43mstore_path\u001b[49m\u001b[43m \u001b[49m\u001b[38;5;241;43m=\u001b[39;49m\u001b[43m \u001b[49m\u001b[43mstore_path\u001b[49m\u001b[43m)\u001b[49m\n",
      "Cell \u001b[1;32mIn[9], line 26\u001b[0m, in \u001b[0;36mndpi2tiff\u001b[1;34m(folder_path, file_name, crop_size, store_path)\u001b[0m\n\u001b[0;32m     24\u001b[0m os\u001b[38;5;241m.\u001b[39mchdir(folder_path)\n\u001b[0;32m     25\u001b[0m \u001b[38;5;66;03m# Read the region from the NDPI file\u001b[39;00m\n\u001b[1;32m---> 26\u001b[0m img \u001b[38;5;241m=\u001b[39m \u001b[43mslide\u001b[49m\u001b[38;5;241;43m.\u001b[39;49m\u001b[43mread_region\u001b[49m\u001b[43m(\u001b[49m\u001b[43mregion\u001b[49m\u001b[43m,\u001b[49m\u001b[43m \u001b[49m\u001b[38;5;241;43m0\u001b[39;49m\u001b[43m,\u001b[49m\u001b[43m \u001b[49m\u001b[43m(\u001b[49m\u001b[43mcrop_size\u001b[49m\u001b[43m,\u001b[49m\u001b[43m \u001b[49m\u001b[43mcrop_size\u001b[49m\u001b[43m)\u001b[49m\u001b[43m)\u001b[49m\n\u001b[0;32m     28\u001b[0m \u001b[38;5;66;03m# Convert the PIL image to OpenCV format\u001b[39;00m\n\u001b[0;32m     29\u001b[0m img \u001b[38;5;241m=\u001b[39m cv2\u001b[38;5;241m.\u001b[39mcvtColor(np\u001b[38;5;241m.\u001b[39marray(img), cv2\u001b[38;5;241m.\u001b[39mCOLOR_RGBA2BGR)\n",
      "File \u001b[1;32m~\\anaconda3\\envs\\Tf-GPU\\lib\\site-packages\\openslide\\__init__.py:236\u001b[0m, in \u001b[0;36mOpenSlide.read_region\u001b[1;34m(self, location, level, size)\u001b[0m\n\u001b[0;32m    226\u001b[0m \u001b[38;5;28;01mdef\u001b[39;00m \u001b[38;5;21mread_region\u001b[39m(\u001b[38;5;28mself\u001b[39m, location, level, size):\n\u001b[0;32m    227\u001b[0m     \u001b[38;5;124;03m\"\"\"Return a PIL.Image containing the contents of the region.\u001b[39;00m\n\u001b[0;32m    228\u001b[0m \n\u001b[0;32m    229\u001b[0m \u001b[38;5;124;03m    location: (x, y) tuple giving the top left pixel in the level 0\u001b[39;00m\n\u001b[1;32m   (...)\u001b[0m\n\u001b[0;32m    234\u001b[0m \u001b[38;5;124;03m    Unlike in the C interface, the image data returned by this\u001b[39;00m\n\u001b[0;32m    235\u001b[0m \u001b[38;5;124;03m    function is not premultiplied.\"\"\"\u001b[39;00m\n\u001b[1;32m--> 236\u001b[0m     \u001b[38;5;28;01mreturn\u001b[39;00m \u001b[43mlowlevel\u001b[49m\u001b[38;5;241;43m.\u001b[39;49m\u001b[43mread_region\u001b[49m\u001b[43m(\u001b[49m\n\u001b[0;32m    237\u001b[0m \u001b[43m        \u001b[49m\u001b[38;5;28;43mself\u001b[39;49m\u001b[38;5;241;43m.\u001b[39;49m\u001b[43m_osr\u001b[49m\u001b[43m,\u001b[49m\u001b[43m \u001b[49m\u001b[43mlocation\u001b[49m\u001b[43m[\u001b[49m\u001b[38;5;241;43m0\u001b[39;49m\u001b[43m]\u001b[49m\u001b[43m,\u001b[49m\u001b[43m \u001b[49m\u001b[43mlocation\u001b[49m\u001b[43m[\u001b[49m\u001b[38;5;241;43m1\u001b[39;49m\u001b[43m]\u001b[49m\u001b[43m,\u001b[49m\u001b[43m \u001b[49m\u001b[43mlevel\u001b[49m\u001b[43m,\u001b[49m\u001b[43m \u001b[49m\u001b[43msize\u001b[49m\u001b[43m[\u001b[49m\u001b[38;5;241;43m0\u001b[39;49m\u001b[43m]\u001b[49m\u001b[43m,\u001b[49m\u001b[43m \u001b[49m\u001b[43msize\u001b[49m\u001b[43m[\u001b[49m\u001b[38;5;241;43m1\u001b[39;49m\u001b[43m]\u001b[49m\n\u001b[0;32m    238\u001b[0m \u001b[43m    \u001b[49m\u001b[43m)\u001b[49m\n",
      "File \u001b[1;32m~\\anaconda3\\envs\\Tf-GPU\\lib\\site-packages\\openslide\\lowlevel.py:311\u001b[0m, in \u001b[0;36mread_region\u001b[1;34m(slide, x, y, level, w, h)\u001b[0m\n\u001b[0;32m    309\u001b[0m     \u001b[38;5;28;01mreturn\u001b[39;00m PIL\u001b[38;5;241m.\u001b[39mImage\u001b[38;5;241m.\u001b[39mnew(\u001b[38;5;124m'\u001b[39m\u001b[38;5;124mRGBA\u001b[39m\u001b[38;5;124m'\u001b[39m, (w, h))\n\u001b[0;32m    310\u001b[0m buf \u001b[38;5;241m=\u001b[39m (w \u001b[38;5;241m*\u001b[39m h \u001b[38;5;241m*\u001b[39m c_uint32)()\n\u001b[1;32m--> 311\u001b[0m \u001b[43m_read_region\u001b[49m\u001b[43m(\u001b[49m\u001b[43mslide\u001b[49m\u001b[43m,\u001b[49m\u001b[43m \u001b[49m\u001b[43mbuf\u001b[49m\u001b[43m,\u001b[49m\u001b[43m \u001b[49m\u001b[43mx\u001b[49m\u001b[43m,\u001b[49m\u001b[43m \u001b[49m\u001b[43my\u001b[49m\u001b[43m,\u001b[49m\u001b[43m \u001b[49m\u001b[43mlevel\u001b[49m\u001b[43m,\u001b[49m\u001b[43m \u001b[49m\u001b[43mw\u001b[49m\u001b[43m,\u001b[49m\u001b[43m \u001b[49m\u001b[43mh\u001b[49m\u001b[43m)\u001b[49m\n\u001b[0;32m    312\u001b[0m \u001b[38;5;28;01mreturn\u001b[39;00m _load_image(buf, (w, h))\n",
      "File \u001b[1;32m~\\anaconda3\\envs\\Tf-GPU\\lib\\site-packages\\openslide\\lowlevel.py:222\u001b[0m, in \u001b[0;36m_check_error\u001b[1;34m(result, func, args)\u001b[0m\n\u001b[0;32m    218\u001b[0m         \u001b[38;5;28;01mreturn\u001b[39;00m result\n\u001b[0;32m    221\u001b[0m \u001b[38;5;66;03m# check if the library got into an error state after each library call\u001b[39;00m\n\u001b[1;32m--> 222\u001b[0m \u001b[38;5;28;01mdef\u001b[39;00m \u001b[38;5;21m_check_error\u001b[39m(result, func, args):\n\u001b[0;32m    223\u001b[0m     err \u001b[38;5;241m=\u001b[39m get_error(args[\u001b[38;5;241m0\u001b[39m])\n\u001b[0;32m    224\u001b[0m     \u001b[38;5;28;01mif\u001b[39;00m err \u001b[38;5;129;01mis\u001b[39;00m \u001b[38;5;129;01mnot\u001b[39;00m \u001b[38;5;28;01mNone\u001b[39;00m:\n",
      "\u001b[1;31mKeyboardInterrupt\u001b[0m: "
     ]
    }
   ],
   "source": [
    "ndpi_path = \"E:/GLO_林口長庚資料集/Process_2022/GLO_CROP/crop_code/\"\n",
    "file_name = \"K20-001406 HE1 _12.19.55.ndpi\"\n",
    "store_path = ndpi_path+\"file/\"\n",
    "ndpi2tiff(ndpi_path, file_name, store_path = store_path)"
   ]
  },
  {
   "cell_type": "code",
   "execution_count": null,
   "id": "68328e7d-9b28-4d8a-ad39-418517fb3241",
   "metadata": {},
   "outputs": [],
   "source": []
  }
 ],
 "metadata": {
  "kernelspec": {
   "display_name": "Tf-GPU",
   "language": "python",
   "name": "tf-gpu"
  },
  "language_info": {
   "codemirror_mode": {
    "name": "ipython",
    "version": 3
   },
   "file_extension": ".py",
   "mimetype": "text/x-python",
   "name": "python",
   "nbconvert_exporter": "python",
   "pygments_lexer": "ipython3",
   "version": "3.10.9"
  }
 },
 "nbformat": 4,
 "nbformat_minor": 5
}
