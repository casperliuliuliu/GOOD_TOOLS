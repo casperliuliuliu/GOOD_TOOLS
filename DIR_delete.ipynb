{
 "cells": [
  {
   "cell_type": "code",
   "execution_count": 3,
   "id": "af248000-8b49-4857-a7b3-6475c0725195",
   "metadata": {},
   "outputs": [
    {
     "name": "stdout",
     "output_type": "stream",
     "text": [
      "Directory 'D:/REDO/NEW_LOG/MEDVIT' has been deleted.\n"
     ]
    }
   ],
   "source": [
    "import os\n",
    "import shutil\n",
    "def delete_directory(directory_path):\n",
    "    try:\n",
    "        if os.path.exists(directory_path):\n",
    "            # Use os.rmdir() to remove an empty directory.\n",
    "            shutil.rmtree(directory_path)\n",
    "            print(f\"Directory '{directory_path}' has been deleted.\")\n",
    "        else:\n",
    "            print(f\"Directory '{directory_path}' does not exist.\")\n",
    "    except Exception as e:\n",
    "        print(f\"An error occurred: {e}\")\n",
    "\n",
    "directory_to_delete = \"D:/REDO/NEW_LOG/MEDVIT\"\n",
    "delete_directory(directory_to_delete)\n"
   ]
  },
  {
   "cell_type": "code",
   "execution_count": null,
   "id": "0372df59-a8a8-4674-80c6-6e62cef79e64",
   "metadata": {},
   "outputs": [],
   "source": []
  }
 ],
 "metadata": {
  "kernelspec": {
   "display_name": "GPU",
   "language": "python",
   "name": "gpu"
  },
  "language_info": {
   "codemirror_mode": {
    "name": "ipython",
    "version": 3
   },
   "file_extension": ".py",
   "mimetype": "text/x-python",
   "name": "python",
   "nbconvert_exporter": "python",
   "pygments_lexer": "ipython3",
   "version": "3.10.12"
  }
 },
 "nbformat": 4,
 "nbformat_minor": 5
}
