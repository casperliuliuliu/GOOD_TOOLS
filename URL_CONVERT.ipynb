{
 "cells": [
  {
   "cell_type": "code",
   "execution_count": null,
   "id": "8e5dcfa9-1e8f-4102-811a-c14742caa30d",
   "metadata": {},
   "outputs": [],
   "source": [
    "# complete\n",
    "import urllib.parse\n",
    "\n",
    "def url_convert(\n",
    "        url: str,\n",
    "        mode: str = \"en\"\n",
    "    ) -> str:\n",
    "    \n",
    "    if mode == \"en\":\n",
    "        tr_url = urllib.parse.quote(url, safe='')\n",
    "        return tr_url\n",
    "    \n",
    "    tr_url = urllib.parse.unquote(url)\n",
    "    return tr_url\n",
    "    \n",
    "query = 'Hellö Wörld@Python'\n",
    "query = \"casper@gmail.com/testing/OK cool/\"\n",
    "\n",
    "url = url_convert(query, 'en')\n",
    "url = url_convert(url, 'de')\n",
    "print(url)"
   ]
  }
 ],
 "metadata": {
  "kernelspec": {
   "display_name": "Tf-GPU",
   "language": "python",
   "name": "tf-gpu"
  },
  "language_info": {
   "codemirror_mode": {
    "name": "ipython",
    "version": 3
   },
   "file_extension": ".py",
   "mimetype": "text/x-python",
   "name": "python",
   "nbconvert_exporter": "python",
   "pygments_lexer": "ipython3",
   "version": "3.10.9"
  }
 },
 "nbformat": 4,
 "nbformat_minor": 5
}
