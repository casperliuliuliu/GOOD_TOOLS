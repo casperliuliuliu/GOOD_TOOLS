{
 "cells": [
  {
   "cell_type": "code",
   "execution_count": 4,
   "id": "6c3fcc96-b975-42ff-9694-f13dc1bd670e",
   "metadata": {},
   "outputs": [],
   "source": [
    "import os\n",
    "import zipfile\n",
    "    \n",
    "def zipdir(path, ziph):\n",
    "    # ziph is zipfile handle\n",
    "    for root, dirs, files in os.walk(path):\n",
    "        for file in files:\n",
    "            ziph.write(os.path.join(root, file), \n",
    "                       os.path.relpath(os.path.join(root, file), \n",
    "                                       os.path.join(path, '..')))\n",
    "    print(f\"finished ziping {ziph}\")\n",
    "paths = [\n",
    "    \"E:/GLO_林口長庚資料集/Upload_LabelData/test/IgA/\",\n",
    "    \"E:/GLO_林口長庚資料集/Upload_LabelData/test/MN/\",\n",
    "    \"E:/GLO_林口長庚資料集/Upload_LabelData/train/IgA/\",\n",
    "    \"E:/GLO_林口長庚資料集/Upload_LabelData/train/MN/\",\n",
    "]\n",
    "name = [\n",
    "    \"IgA_test.zip\",\n",
    "    \"MN_test.zip\",\n",
    "    \"IgA_train.zip\",\n",
    "    \"MN_train.zip\",\n",
    "]\n",
    "store_path = \"E:/Data/FIRST/ARCHIVE/\"\n",
    "\n",
    "for ii in range(4):\n",
    "    with zipfile.ZipFile(store_path + name[ii], 'w', zipfile.ZIP_DEFLATED) as zipf:\n",
    "        zipdir(paths[ii], zipf)\n",
    "        \n",
    "        "
   ]
  }
 ],
 "metadata": {
  "kernelspec": {
   "display_name": "Python 3 (ipykernel)",
   "language": "python",
   "name": "python3"
  },
  "language_info": {
   "codemirror_mode": {
    "name": "ipython",
    "version": 3
   },
   "file_extension": ".py",
   "mimetype": "text/x-python",
   "name": "python",
   "nbconvert_exporter": "python",
   "pygments_lexer": "ipython3",
   "version": "3.10.12"
  }
 },
 "nbformat": 4,
 "nbformat_minor": 5
}
