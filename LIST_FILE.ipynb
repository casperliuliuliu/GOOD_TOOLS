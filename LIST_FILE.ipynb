{
 "cells": [
  {
   "cell_type": "code",
   "execution_count": 2,
   "id": "a8eaea39-f84c-43bd-a1e8-d9a8cd9e656f",
   "metadata": {},
   "outputs": [],
   "source": [
    "import os\n",
    "def list_file(path):\n",
    "    print(f\"TOTAL FILE:{len(os.listdir(path))}\")\n",
    "    print(os.listdir(path))\n",
    "    return True"
   ]
  },
  {
   "cell_type": "code",
   "execution_count": 4,
   "id": "54129672-0515-4143-9f52-adb7ca1eb829",
   "metadata": {},
   "outputs": [
    {
     "name": "stdout",
     "output_type": "stream",
     "text": [
      "TOTAL FILE:5\n",
      "['(1)DMN', '(2)IgAN', '(3)LN', '(4)MCD', '(5)MN']\n"
     ]
    },
    {
     "data": {
      "text/plain": [
       "True"
      ]
     },
     "execution_count": 4,
     "metadata": {},
     "output_type": "execute_result"
    }
   ],
   "source": [
    "path = \"E:/GLO_林口長庚資料集/2020-2022新增cases/\"\n",
    "list_file(path)"
   ]
  }
 ],
 "metadata": {
  "kernelspec": {
   "display_name": "Tf-GPU",
   "language": "python",
   "name": "tf-gpu"
  },
  "language_info": {
   "codemirror_mode": {
    "name": "ipython",
    "version": 3
   },
   "file_extension": ".py",
   "mimetype": "text/x-python",
   "name": "python",
   "nbconvert_exporter": "python",
   "pygments_lexer": "ipython3",
   "version": "3.10.9"
  }
 },
 "nbformat": 4,
 "nbformat_minor": 5
}
