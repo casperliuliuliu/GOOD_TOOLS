{
 "cells": [
  {
   "cell_type": "code",
   "execution_count": 2,
   "id": "a8eaea39-f84c-43bd-a1e8-d9a8cd9e656f",
   "metadata": {},
   "outputs": [],
   "source": [
    "import os\n",
    "def list_file(path):\n",
    "    print(f\"TOTAL FILE:{len(os.listdir(path))}\")\n",
    "    print(os.listdir(path))\n",
    "    return True"
   ]
  },
  {
   "cell_type": "code",
   "execution_count": 18,
   "id": "54129672-0515-4143-9f52-adb7ca1eb829",
   "metadata": {},
   "outputs": [
    {
     "name": "stdout",
     "output_type": "stream",
     "text": [
      "TOTAL FILE:48\n",
      "['S0910454HE_1.png', 'S0910454HE_2.png', 'S0910454HE_3.png', 'S0910454HE_4.png', 'S0910454PASM_1.png', 'S0910454PASM_2.png', 'S0910454PASM_3.png', 'S0910454PASM_4.png', 'S0910454PAS_1.png', 'S0910454PAS_2.png', 'S0910454PAS_3.png', 'S0910454PAS_4.png', 'S0941128HE_1.png', 'S0941128HE_2.png', 'S0941128HE_3.png', 'S0941128HE_4.png', 'S0941128PASM_1.png', 'S0941128PASM_2.png', 'S0941128PASM_3.png', 'S0941128PASM_4.png', 'S0941128PAS_1.png', 'S0941128PAS_2.png', 'S0941128PAS_3.png', 'S0941128PAS_4.png', 'S1001399HE_1.png', 'S1001399HE_2.png', 'S1001399HE_3.png', 'S1001399HE_4.png', 'S1001399PASM_1.png', 'S1001399PASM_2.png', 'S1001399PASM_3.png', 'S1001399PASM_4.png', 'S1001399PAS_1.png', 'S1001399PAS_2.png', 'S1001399PAS_3.png', 'S1001399PAS_4.png', 'S1113976HE_1.png', 'S1113976HE_2.png', 'S1113976HE_3.png', 'S1113976HE_4.png', 'S1113976PASM_1.png', 'S1113976PASM_2.png', 'S1113976PASM_3.png', 'S1113976PASM_4.png', 'S1113976PAS_1.png', 'S1113976PAS_2.png', 'S1113976PAS_3.png', 'S1113976PAS_4.png']\n"
     ]
    },
    {
     "data": {
      "text/plain": [
       "True"
      ]
     },
     "execution_count": 18,
     "metadata": {},
     "output_type": "execute_result"
    }
   ],
   "source": [
    "path = r\"D:/P2023/DATA/glomer_tvgh_1st/IGA\"\n",
    "list_file(path)"
   ]
  },
  {
   "cell_type": "code",
   "execution_count": 6,
   "id": "3ad6618b",
   "metadata": {},
   "outputs": [
    {
     "name": "stdout",
     "output_type": "stream",
     "text": [
      "0\n",
      "123\n",
      "1673\n",
      "530\n",
      "sum = 2326\n"
     ]
    }
   ],
   "source": [
    "sum = 0\n",
    "for ii in os.listdir(path):\n",
    "    new_path = os.path.join(path, ii)\n",
    "    print(len(os.listdir(new_path)))\n",
    "    sum += len(os.listdir(new_path))\n",
    "print(f\"sum = {sum}\")"
   ]
  },
  {
   "cell_type": "code",
   "execution_count": null,
   "id": "6a556d74",
   "metadata": {},
   "outputs": [],
   "source": []
  }
 ],
 "metadata": {
  "kernelspec": {
   "display_name": "Python 3 (ipykernel)",
   "language": "python",
   "name": "python3"
  },
  "language_info": {
   "codemirror_mode": {
    "name": "ipython",
    "version": 3
   },
   "file_extension": ".py",
   "mimetype": "text/x-python",
   "name": "python",
   "nbconvert_exporter": "python",
   "pygments_lexer": "ipython3",
   "version": "3.10.12"
  }
 },
 "nbformat": 4,
 "nbformat_minor": 5
}
