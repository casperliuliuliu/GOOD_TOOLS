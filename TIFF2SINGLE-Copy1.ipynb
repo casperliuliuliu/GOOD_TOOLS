{
 "cells": [
  {
   "cell_type": "code",
   "execution_count": 1,
   "metadata": {},
   "outputs": [],
   "source": [
    "import cv2 \n",
    "import numpy as np\n",
    "import pylab\n",
    "import matplotlib.pyplot as plt"
   ]
  },
  {
   "cell_type": "code",
   "execution_count": 2,
   "metadata": {},
   "outputs": [],
   "source": [
    "test = cv2.imread('./TEST_DATA/test.tiff',-1)\n",
    "mask = cv2.imread('./TEST_DATA/mask.tiff',-1)"
   ]
  },
  {
   "cell_type": "code",
   "execution_count": 3,
   "metadata": {},
   "outputs": [
    {
     "name": "stdout",
     "output_type": "stream",
     "text": [
      "test shape: (25784, 34937, 3)\n",
      "mask shape: (25784, 34937)\n"
     ]
    }
   ],
   "source": [
    "print(\"test shape:\",test.shape)\n",
    "print(\"mask shape:\",mask.shape)"
   ]
  },
  {
   "cell_type": "code",
   "execution_count": 17,
   "metadata": {},
   "outputs": [],
   "source": [
    "maskContour = mask.copy()\n",
    "contours, hierarchy = cv2.findContours(mask, cv2.RETR_TREE, cv2.CHAIN_APPROX_SIMPLE)"
   ]
  },
  {
   "cell_type": "code",
   "execution_count": 18,
   "metadata": {},
   "outputs": [
    {
     "name": "stdout",
     "output_type": "stream",
     "text": [
      "Found 129 contours.\n"
     ]
    }
   ],
   "source": [
    "if len(contours) > 0:\n",
    "    print(f\"Found {len(contours)} contours.\")\n",
    "    # for cnt in contours:\n",
    "        # print(cnt)\n",
    "else:\n",
    "    print(\"No contours found.\")\n"
   ]
  },
  {
   "cell_type": "code",
   "execution_count": 9,
   "metadata": {},
   "outputs": [
    {
     "name": "stdout",
     "output_type": "stream",
     "text": [
      "[[ 9375 22487]]\n"
     ]
    }
   ],
   "source": [
    "print(contours[0][0])"
   ]
  },
  {
   "cell_type": "code",
   "execution_count": 41,
   "metadata": {},
   "outputs": [
    {
     "name": "stdout",
     "output_type": "stream",
     "text": [
      "Total Glomerulus: 6\n"
     ]
    }
   ],
   "source": [
    "i = 0\n",
    "w_max = 0\n",
    "h_max = 0\n",
    "kidney_glomerulus = test\n",
    "for cnt in contours:\n",
    "    x, y, w, h = cv2.boundingRect(cnt)\n",
    "    mid_x = int(x + w/2)\n",
    "    mid_y = int(y + h/2)\n",
    "\n",
    "    try:\n",
    "        kidney_glomerulus = test[ (mid_y-256) : (mid_y+256), (mid_x-256) : (mid_x+256)]\n",
    "        name = f\"./TEST_DATA/image/crop_kidney_glomerulus_{i}.png\"\n",
    "        if h > 600 or w > 600:\n",
    "            if h > w:\n",
    "                size = int((int(h / 512)+1) * 512 / 2)\n",
    "            else:\n",
    "                size = int((int(w / 512)+1) * 512 / 2)\n",
    "\n",
    "            kidney_glomerulus = test[ (mid_y-size) : (mid_y+size), (mid_x-size) : (mid_x+size) ]\n",
    "        cv2.imwrite(name, kidney_glomerulus)\n",
    "    except:\n",
    "        print(f\"[Warning] Crop failed: (x, y, w, h) = ({x}, {y}, {w}, {h})\")\n",
    "    i += 1\n",
    "    if i >5:\n",
    "        break\n",
    "print(f\"Total Glomerulus: {i}\")\n",
    "# kidney_glomerulus"
   ]
  }
 ],
 "metadata": {
  "kernelspec": {
   "display_name": "Tf-GPU",
   "language": "python",
   "name": "tf-gpu"
  },
  "language_info": {
   "codemirror_mode": {
    "name": "ipython",
    "version": 3
   },
   "file_extension": ".py",
   "mimetype": "text/x-python",
   "name": "python",
   "nbconvert_exporter": "python",
   "pygments_lexer": "ipython3",
   "version": "3.10.9"
  }
 },
 "nbformat": 4,
 "nbformat_minor": 4
}
