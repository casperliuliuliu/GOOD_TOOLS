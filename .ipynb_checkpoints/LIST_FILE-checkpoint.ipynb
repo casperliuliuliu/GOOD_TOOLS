{
 "cells": [
  {
   "cell_type": "code",
   "execution_count": 2,
   "id": "a8eaea39-f84c-43bd-a1e8-d9a8cd9e656f",
   "metadata": {},
   "outputs": [],
   "source": [
    "import os\n",
    "def list_file(path):\n",
    "    print(f\"TOTAL FILE:{len(os.listdir(path))}\")\n",
    "    print(os.listdir(path))\n",
    "    return True"
   ]
  },
  {
   "cell_type": "code",
   "execution_count": 14,
   "id": "54129672-0515-4143-9f52-adb7ca1eb829",
   "metadata": {},
   "outputs": [
    {
     "name": "stdout",
     "output_type": "stream",
     "text": [
      "TOTAL FILE:11\n",
      "['202014945', '202017831', '202019587', '202033601', '202043432', '202043588', '202051216', '202051908', '202059337', '202059901', '202061634']\n"
     ]
    },
    {
     "data": {
      "text/plain": [
       "True"
      ]
     },
     "execution_count": 14,
     "metadata": {},
     "output_type": "execute_result"
    }
   ],
   "source": [
    "path = r\"E:\\Data\\中國醫腎絲球分割output\\MGN_forCNN\"\n",
    "list_file(path)"
   ]
  },
  {
   "cell_type": "code",
   "execution_count": 15,
   "id": "3ad6618b",
   "metadata": {},
   "outputs": [
    {
     "name": "stdout",
     "output_type": "stream",
     "text": [
      "86\n",
      "100\n",
      "43\n",
      "72\n",
      "67\n",
      "48\n",
      "8\n",
      "20\n",
      "3\n",
      "31\n",
      "22\n",
      "sum = 500\n"
     ]
    }
   ],
   "source": [
    "sum = 0\n",
    "for ii in os.listdir(path):\n",
    "    new_path = os.path.join(path, ii)\n",
    "    print(len(os.listdir(new_path)))\n",
    "    sum += len(os.listdir(new_path))\n",
    "print(f\"sum = {sum}\")"
   ]
  },
  {
   "cell_type": "code",
   "execution_count": null,
   "id": "6a556d74",
   "metadata": {},
   "outputs": [],
   "source": []
  }
 ],
 "metadata": {
  "kernelspec": {
   "display_name": "Tf-GPU",
   "language": "python",
   "name": "python3"
  },
  "language_info": {
   "codemirror_mode": {
    "name": "ipython",
    "version": 3
   },
   "file_extension": ".py",
   "mimetype": "text/x-python",
   "name": "python",
   "nbconvert_exporter": "python",
   "pygments_lexer": "ipython3",
   "version": "3.10.9"
  }
 },
 "nbformat": 4,
 "nbformat_minor": 5
}
