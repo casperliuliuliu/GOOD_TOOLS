{
 "cells": [
  {
   "cell_type": "code",
   "execution_count": 4,
   "id": "751abe7f-c4f0-4900-b8ef-1b82e1d55ec4",
   "metadata": {},
   "outputs": [
    {
     "ename": "KeyError",
     "evalue": "'myemail'",
     "output_type": "error",
     "traceback": [
      "\u001b[1;31m---------------------------------------------------------------------------\u001b[0m",
      "\u001b[1;31mKeyError\u001b[0m                                  Traceback (most recent call last)",
      "Cell \u001b[1;32mIn[4], line 37\u001b[0m\n\u001b[0;32m     28\u001b[0m mes \u001b[39m=\u001b[39m \u001b[39m\"\"\"\u001b[39m\u001b[39mHi Casper,\u001b[39m\n\u001b[0;32m     29\u001b[0m \n\u001b[0;32m     30\u001b[0m \u001b[39m    Conversion from NPDI to TIFF machine x is complete.\u001b[39m\n\u001b[1;32m   (...)\u001b[0m\n\u001b[0;32m     34\u001b[0m \u001b[39mVLSI\u001b[39m\n\u001b[0;32m     35\u001b[0m \u001b[39m\"\"\"\u001b[39m\n\u001b[0;32m     36\u001b[0m sub \u001b[39m=\u001b[39m \u001b[39m\"\u001b[39m\u001b[39mMx TASK COMPLETE\u001b[39m\u001b[39m\"\u001b[39m\n\u001b[1;32m---> 37\u001b[0m Notification(sub,mes)\n",
      "Cell \u001b[1;32mIn[4], line 16\u001b[0m, in \u001b[0;36mNotification\u001b[1;34m(subject, message)\u001b[0m\n\u001b[0;32m     14\u001b[0m content[\u001b[39m\"\u001b[39m\u001b[39msubject\u001b[39m\u001b[39m\"\u001b[39m] \u001b[39m=\u001b[39m subject\n\u001b[0;32m     15\u001b[0m content[\u001b[39m\"\u001b[39m\u001b[39mfrom\u001b[39m\u001b[39m\"\u001b[39m] \u001b[39m=\u001b[39m \u001b[39m\"\u001b[39m\u001b[39mVLSI machine\u001b[39m\u001b[39m\"\u001b[39m\n\u001b[1;32m---> 16\u001b[0m content[\u001b[39m\"\u001b[39m\u001b[39mto\u001b[39m\u001b[39m\"\u001b[39m] \u001b[39m=\u001b[39m config[\u001b[39m'\u001b[39;49m\u001b[39mmyemail\u001b[39;49m\u001b[39m'\u001b[39;49m]\n\u001b[0;32m     17\u001b[0m content\u001b[39m.\u001b[39mattach(MIMEText(message))\n\u001b[0;32m     18\u001b[0m \u001b[39mwith\u001b[39;00m smtplib\u001b[39m.\u001b[39mSMTP(host\u001b[39m=\u001b[39m\u001b[39m\"\u001b[39m\u001b[39msmtp.gmail.com\u001b[39m\u001b[39m\"\u001b[39m, port\u001b[39m=\u001b[39m\u001b[39m\"\u001b[39m\u001b[39m587\u001b[39m\u001b[39m\"\u001b[39m) \u001b[39mas\u001b[39;00m smtp:\n",
      "\u001b[1;31mKeyError\u001b[0m: 'myemail'"
     ]
    }
   ],
   "source": [
    "from email.mime.multipart import MIMEMultipart\n",
    "from email.mime.text import MIMEText\n",
    "import smtplib\n",
    "import sys\n",
    "sys.path.append('E:\\casper\\OTHER')\n",
    "from config import get_config \n",
    "# print(get_config())\n",
    "config = get_config()\n",
    "\n",
    "def Notification(subject,message):\n",
    "    content = MIMEMultipart()  \n",
    "    token = config['token']\n",
    "    email = config['email']\n",
    "    content[\"subject\"] = subject\n",
    "    content[\"from\"] = \"VLSI machine\"\n",
    "    content[\"to\"] = config['myemail']\n",
    "    content.attach(MIMEText(message))\n",
    "    with smtplib.SMTP(host=\"smtp.gmail.com\", port=\"587\") as smtp:\n",
    "        try:\n",
    "            smtp.ehlo()\n",
    "            smtp.starttls()\n",
    "            smtp.login(email, token)\n",
    "            smtp.send_message(content)\n",
    "            print(\"Complete!\")\n",
    "        except Exception as e:\n",
    "            print(\"Error message: \", e)\n",
    "            \n",
    "mes = \"\"\"Hi Casper,\n",
    "\n",
    "    Conversion from NPDI to TIFF machine x is complete.\n",
    "    Please remember to launch the next step.\n",
    "\n",
    "Sincerely,\n",
    "VLSI\n",
    "\"\"\"\n",
    "sub = \"Mx TASK COMPLETE\"\n",
    "Notification(sub,mes)"
   ]
  },
  {
   "cell_type": "code",
   "execution_count": null,
   "id": "5dfb83f3-fe84-408f-b1d2-f09b709b7e78",
   "metadata": {},
   "outputs": [],
   "source": [
    "mes = \"\"\"Hi Casper,\n",
    "\n",
    "    Conversion from NPDI to TIFF machine x is complete.\n",
    "    Please remember to launch the next step.\n",
    "\n",
    "Sincerely,\n",
    "VLSI\n",
    "\"\"\"\n",
    "sub = \"Mx TASK COMPLETE\"\n",
    "Notification(sub,mes)"
   ]
  }
 ],
 "metadata": {
  "kernelspec": {
   "display_name": "Tf-GPU",
   "language": "python",
   "name": "python3"
  },
  "language_info": {
   "codemirror_mode": {
    "name": "ipython",
    "version": 3
   },
   "file_extension": ".py",
   "mimetype": "text/x-python",
   "name": "python",
   "nbconvert_exporter": "python",
   "pygments_lexer": "ipython3",
   "version": "3.10.9"
  }
 },
 "nbformat": 4,
 "nbformat_minor": 5
}
